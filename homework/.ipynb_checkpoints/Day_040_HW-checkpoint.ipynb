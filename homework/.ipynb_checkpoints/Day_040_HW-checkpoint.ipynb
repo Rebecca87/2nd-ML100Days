{
 "cells": [
  {
   "cell_type": "markdown",
   "metadata": {},
   "source": [
    "## [作業重點]\n",
    "使用 Sklearn 中的 Lasso, Ridge 模型，來訓練各種資料集，務必了解送進去模型訓練的**資料型態**為何，也請了解模型中各項參數的意義。\n",
    "\n",
    "機器學習的模型非常多種，但要訓練的資料多半有固定的格式，確保你了解訓練資料的格式為何，這樣在應用新模型時，就能夠最快的上手開始訓練！"
   ]
  },
  {
   "cell_type": "markdown",
   "metadata": {},
   "source": [
    "## 練習時間\n",
    "試著使用 sklearn datasets 的其他資料集 (boston, ...)，來訓練自己的線性迴歸模型，並加上適當的正則化來觀察訓練情形。"
   ]
  },
  {
   "cell_type": "code",
   "execution_count": 1,
   "metadata": {},
   "outputs": [],
   "source": [
    "import numpy as np\n",
    "import matplotlib.pyplot as plt\n",
    "import seaborn as sns\n",
    "from sklearn import datasets, linear_model\n",
    "from sklearn.model_selection import train_test_split\n",
    "from sklearn.metrics import mean_absolute_error"
   ]
  },
  {
   "cell_type": "code",
   "execution_count": 2,
   "metadata": {},
   "outputs": [
    {
     "name": "stdout",
     "output_type": "stream",
     "text": [
      "[-0.07960576  0.05692846 -0.01455237  0.         -0.          0.14020219\n",
      "  0.02303066 -0.81626973  0.29846294 -0.01755403 -0.60533766  0.00809172\n",
      " -0.77202042]\n",
      "Mean absolute error: 4.22\n"
     ]
    }
   ],
   "source": [
    "# 讀取波士頓房價資料集 (回歸問題)\n",
    "boston = datasets.load_boston()\n",
    "\n",
    "# 切分訓練集/測試集\n",
    "x_train, x_test, y_train, y_test = train_test_split(boston.data, boston.target, test_size=0.3, random_state=4)\n",
    "\n",
    "# 訓練一個 Lasso 回歸模型 (不設定 alpha 值)\n",
    "reg = linear_model.Lasso().fit(x_train, y_train)\n",
    "\n",
    "# 得到預測結果\n",
    "y_pred = reg.predict(x_test)\n",
    "\n",
    "# 訓練後的模型參數\n",
    "print(reg.coef_)\n",
    "\n",
    "# MAE 評估 \n",
    "print(\"Mean absolute error: %.2f\" % mean_absolute_error(y_test, y_pred))\n"
   ]
  },
  {
   "cell_type": "code",
   "execution_count": 3,
   "metadata": {},
   "outputs": [
    {
     "name": "stdout",
     "output_type": "stream",
     "text": [
      "[-0.11459839  0.05678739 -0.06011968  2.43636946 -0.          3.15301549\n",
      " -0.01186498 -1.2880925   0.30666581 -0.01574493 -0.66530959  0.01009966\n",
      " -0.5666523 ]\n",
      "Mean absolute error: 3.86\n"
     ]
    }
   ],
   "source": [
    "# 訓練一個 Lasso 回歸模型 (alpha 值設定為 0.1)\n",
    "reg = linear_model.Lasso(alpha = 0.1).fit(x_train, y_train)\n",
    "\n",
    "# 得到預測結果\n",
    "y_pred = reg.predict(x_test)\n",
    "\n",
    "# 訓練後的模型參數\n",
    "print(reg.coef_)\n",
    "\n",
    "# MAE 評估 \n",
    "print(\"Mean absolute error: %.2f\" % mean_absolute_error(y_test, y_pred))"
   ]
  },
  {
   "cell_type": "code",
   "execution_count": 4,
   "metadata": {},
   "outputs": [
    {
     "name": "stdout",
     "output_type": "stream",
     "text": [
      "[-0.11391407  0.05734418 -0.04705182  0.35936314 -0.          2.87782463\n",
      " -0.00616356 -1.23691638  0.32185455 -0.01660225 -0.67369535  0.01009112\n",
      " -0.59619619]\n",
      "Mean absolute error: 3.85\n"
     ]
    }
   ],
   "source": [
    "# 訓練一個 Lasso 回歸模型 (alpha 值設定為 0.2)\n",
    "reg = linear_model.Lasso(alpha = 0.2).fit(x_train, y_train)\n",
    "\n",
    "# 得到預測結果\n",
    "y_pred = reg.predict(x_test)\n",
    "\n",
    "# 訓練後的模型參數\n",
    "print(reg.coef_)\n",
    "\n",
    "# MAE 評估 \n",
    "print(\"Mean absolute error: %.2f\" % mean_absolute_error(y_test, y_pred))"
   ]
  },
  {
   "cell_type": "code",
   "execution_count": 5,
   "metadata": {},
   "outputs": [
    {
     "name": "stdout",
     "output_type": "stream",
     "text": [
      "[-1.10112991e-01  5.74531486e-02 -4.19452982e-02  0.00000000e+00\n",
      " -0.00000000e+00  2.54073746e+00 -1.37275863e-03 -1.17937683e+00\n",
      "  3.21827415e-01 -1.68430900e-02 -6.67618552e-01  9.87123265e-03\n",
      " -6.20584179e-01]\n",
      "Mean absolute error: 3.88\n"
     ]
    }
   ],
   "source": [
    "# 訓練一個 Lasso 回歸模型 (alpha 值設定為 0.3)\n",
    "reg = linear_model.Lasso(alpha = 0.3).fit(x_train, y_train)\n",
    "\n",
    "# 得到預測結果\n",
    "y_pred = reg.predict(x_test)\n",
    "\n",
    "# 訓練後的模型參數\n",
    "print(reg.coef_)\n",
    "\n",
    "# MAE 評估 \n",
    "print(\"Mean absolute error: %.2f\" % mean_absolute_error(y_test, y_pred))"
   ]
  },
  {
   "cell_type": "markdown",
   "metadata": {},
   "source": [
    "總結: 不設定alpha時,MAE值為4.22; 設定alpha為0.1時,MAE值為3.86,明顯下降許多; 提高alpha到0.2時,MAE值為3.85,提高alpha到0.3時,MAE值為3.88,MAE值不降反升,對這個模型來說,當alpha設定為0.1或0.2便可有效抑制模型的過擬合。"
   ]
  },
  {
   "cell_type": "code",
   "execution_count": null,
   "metadata": {},
   "outputs": [],
   "source": []
  }
 ],
 "metadata": {
  "kernelspec": {
   "display_name": "Python 3",
   "language": "python",
   "name": "python3"
  },
  "language_info": {
   "codemirror_mode": {
    "name": "ipython",
    "version": 3
   },
   "file_extension": ".py",
   "mimetype": "text/x-python",
   "name": "python",
   "nbconvert_exporter": "python",
   "pygments_lexer": "ipython3",
   "version": "3.6.5"
  }
 },
 "nbformat": 4,
 "nbformat_minor": 2
}
