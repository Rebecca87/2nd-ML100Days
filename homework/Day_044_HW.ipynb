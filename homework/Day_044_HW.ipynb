{
 "cells": [
  {
   "cell_type": "markdown",
   "metadata": {},
   "source": [
    "## [作業重點]\n",
    "確保你了解隨機森林模型中每個超參數的意義，並觀察調整超參數對結果的影響"
   ]
  },
  {
   "cell_type": "markdown",
   "metadata": {},
   "source": [
    "## 作業\n",
    "\n",
    "1. 試著調整 RandomForestClassifier(...) 中的參數，並觀察是否會改變結果？\n",
    "2. 改用其他資料集 (boston, wine)，並與回歸模型與決策樹的結果進行比較"
   ]
  },
  {
   "cell_type": "code",
   "execution_count": 1,
   "metadata": {},
   "outputs": [],
   "source": [
    "from sklearn import datasets, metrics\n",
    "from sklearn.ensemble import RandomForestClassifier, RandomForestRegressor\n",
    "from sklearn.tree import DecisionTreeClassifier\n",
    "from sklearn.model_selection import train_test_split"
   ]
  },
  {
   "cell_type": "code",
   "execution_count": 2,
   "metadata": {},
   "outputs": [
    {
     "name": "stdout",
     "output_type": "stream",
     "text": [
      "使用2棵樹的Accuracy:  0.9466666666666667\n",
      "使用30棵樹的Accuracy:  0.9333333333333333\n"
     ]
    }
   ],
   "source": [
    "# 讀取鳶尾花資料集\n",
    "iris = datasets.load_iris()\n",
    "\n",
    "# 切分訓練集/測試集\n",
    "x_train, x_test, y_train, y_test = train_test_split(iris.data, iris.target, test_size=0.5, random_state=4)\n",
    "\n",
    "# 建立模型 \n",
    "clf1 = RandomForestClassifier(n_estimators=2, max_depth=4) # 使用 2 棵樹,每棵樹的最大深度為 4\n",
    "clf2 = RandomForestClassifier(n_estimators=30, max_depth=4) # 使用 30 棵樹,每棵樹的最大深度為 4\n",
    "\n",
    "# 訓練模型\n",
    "clf1.fit(x_train, y_train)\n",
    "clf2.fit(x_train, y_train)\n",
    "\n",
    "# 預測測試集\n",
    "y_pred1 = clf1.predict(x_test)\n",
    "y_pred2 = clf2.predict(x_test)\n",
    "\n",
    "# 正確率評估\n",
    "acc1 = metrics.accuracy_score(y_test, y_pred1)\n",
    "acc2 = metrics.accuracy_score(y_test, y_pred2)\n",
    "print(\"使用2棵樹的Accuracy: \", acc1)\n",
    "print(\"使用30棵樹的Accuracy: \", acc2)"
   ]
  },
  {
   "cell_type": "code",
   "execution_count": 4,
   "metadata": {},
   "outputs": [
    {
     "name": "stdout",
     "output_type": "stream",
     "text": [
      "隨機森林 (回歸) 的 Mean squared error: 0.03\n",
      "隨機森林 (分類) 的 Acuuracy:  0.9466666666666667\n",
      "決策樹 (分類) 的 Acuuracy:  0.9333333333333333\n"
     ]
    }
   ],
   "source": [
    "# 讀取波士頓房價資料集\n",
    "boston = datasets.load_boston()\n",
    "\n",
    "# 切分訓練集/測試集\n",
    "x_train, x_test, y_train, y_test = train_test_split(iris.data, iris.target, test_size=0.5, random_state=4)\n",
    "\n",
    "# 建立模型\n",
    "model1 = RandomForestRegressor() # 隨機森林 (回歸)\n",
    "model2 = RandomForestClassifier() # 隨機森林 (分類)\n",
    "model3 = DecisionTreeClassifier() # 決策樹 (分類)\n",
    "\n",
    "# 訓練模型\n",
    "model1.fit(x_train, y_train)\n",
    "model2.fit(x_train, y_train)\n",
    "model3.fit(x_train, y_train)\n",
    "\n",
    "# 預測測試集\n",
    "y_pred1 = model1.predict(x_test)\n",
    "y_pred2 = model2.predict(x_test)\n",
    "y_pred3 = model3.predict(x_test)\n",
    "\n",
    "# MSE 評估\n",
    "print(\"隨機森林 (回歸) 的 Mean squared error: %.2f\" % metrics.mean_squared_error(y_test, y_pred1))\n",
    "\n",
    "# 正確率評估\n",
    "acc2 = metrics.accuracy_score(y_test, y_pred2)\n",
    "acc3 = metrics.accuracy_score(y_test, y_pred3)\n",
    "print(\"隨機森林 (分類) 的 Acuuracy: \", acc2)\n",
    "print(\"決策樹 (分類) 的 Acuuracy: \", acc3)"
   ]
  },
  {
   "cell_type": "code",
   "execution_count": null,
   "metadata": {},
   "outputs": [],
   "source": []
  }
 ],
 "metadata": {
  "kernelspec": {
   "display_name": "Python 3",
   "language": "python",
   "name": "python3"
  },
  "language_info": {
   "codemirror_mode": {
    "name": "ipython",
    "version": 3
   },
   "file_extension": ".py",
   "mimetype": "text/x-python",
   "name": "python",
   "nbconvert_exporter": "python",
   "pygments_lexer": "ipython3",
   "version": "3.6.5"
  }
 },
 "nbformat": 4,
 "nbformat_minor": 2
}
